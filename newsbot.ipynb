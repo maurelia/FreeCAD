{
  "cells": [
    {
      "cell_type": "markdown",
      "metadata": {
        "id": "view-in-github",
        "colab_type": "text"
      },
      "source": [
        "<a href=\"https://colab.research.google.com/github/maurelia/FreeCAD/blob/master/newsbot.ipynb\" target=\"_parent\"><img src=\"https://colab.research.google.com/assets/colab-badge.svg\" alt=\"Open In Colab\"/></a>"
      ]
    },
    {
      "cell_type": "code",
      "execution_count": 55,
      "id": "a573e327",
      "metadata": {
        "id": "a573e327",
        "colab": {
          "base_uri": "https://localhost:8080/"
        },
        "outputId": "ad47ff1c-8d03-4c1f-abcf-92278512102e"
      },
      "outputs": [
        {
          "output_type": "stream",
          "name": "stdout",
          "text": [
            "Drive already mounted at /content/drive; to attempt to forcibly remount, call drive.mount(\"/content/drive\", force_remount=True).\n"
          ]
        }
      ],
      "source": [
        "from google.colab import drive\n",
        "drive.mount('/content/drive')\n",
        "import requests\n",
        "from bs4 import BeautifulSoup\n",
        "import pandas as pd\n",
        "import os\n",
        "import glob\n",
        "\n",
        "# List of URL's to add to the bot\n",
        "feed = ['https://energy.economictimes.indiatimes.com/rss/Renewable','https://www.spglobal.com/commodityinsights/en/rss-feed/energy-transition#','https://rss.nytimes.com/services/xml/rss/nyt/World.xml','https://rss.nytimes.com/services/xml/rss/nyt/Technology.xml','https://rss.nytimes.com/services/xml/rss/nyt/EnergyEnvironment.xml']\n",
        "# Reading with bs4 in iterations per url and saving each csv file with the url \n",
        "for url in feed:\n",
        "    resp = requests.get(url)\n",
        "    soup = BeautifulSoup(resp.text, 'xml')\n",
        "    output = []\n",
        "    for entry in soup.find_all('item'):\n",
        "        item = {\n",
        "            'Title': entry.find('title').text,\n",
        "            'Pubdate': entry.find('pubDate').text,\n",
        "            'Content': entry.find('description').text,\n",
        "            'Link': entry.find('link').text\n",
        "        }\n",
        "        output.append(item)\n",
        "        df = pd.DataFrame(output)\n",
        "        df.to_csv(f'results_{url.split(\"/\")[2]}.csv', index=False)"
      ]
    },
    {
      "cell_type": "code",
      "source": [
        "extension = 'csv'\n",
        "all_filenames = [i for i in glob.glob('*.{}'.format(extension))]"
      ],
      "metadata": {
        "id": "cFhk5Rtp_6fU"
      },
      "id": "cFhk5Rtp_6fU",
      "execution_count": 40,
      "outputs": []
    },
    {
      "cell_type": "code",
      "source": [
        "#combine all files in the list\n",
        "combined_csv = pd.concat([pd.read_csv(f) for f in all_filenames ])\n",
        "#export to csv\n",
        "combined_csv.to_csv('combined_csv.csv', mode='a', index=False, header=True,)"
      ],
      "metadata": {
        "id": "xzxRVO4-ITa-"
      },
      "id": "xzxRVO4-ITa-",
      "execution_count": 41,
      "outputs": []
    },
    {
      "cell_type": "code",
      "source": [
        "df = pd.read_csv('combined_csv.csv')\n",
        "df.drop_duplicates(inplace=True)\n",
        "df.to_csv('combined_csv.csv', index=False)"
      ],
      "metadata": {
        "id": "wqDk9Y_-Ieq1"
      },
      "id": "wqDk9Y_-Ieq1",
      "execution_count": 42,
      "outputs": []
    },
    {
      "cell_type": "code",
      "source": [
        ""
      ],
      "metadata": {
        "id": "HRGBgcDiQIh7"
      },
      "id": "HRGBgcDiQIh7",
      "execution_count": 38,
      "outputs": []
    },
    {
      "cell_type": "code",
      "source": [
        ""
      ],
      "metadata": {
        "colab": {
          "base_uri": "https://localhost:8080/"
        },
        "id": "FUuITuCwRkhv",
        "outputId": "8ac65685-b5bf-45ba-8358-9bfb188c1b45"
      },
      "id": "FUuITuCwRkhv",
      "execution_count": 16,
      "outputs": [
        {
          "output_type": "execute_result",
          "data": {
            "text/plain": [
              "[]"
            ]
          },
          "metadata": {},
          "execution_count": 16
        }
      ]
    },
    {
      "cell_type": "code",
      "source": [
        ""
      ],
      "metadata": {
        "id": "DtrssxRMSCNJ"
      },
      "id": "DtrssxRMSCNJ",
      "execution_count": null,
      "outputs": []
    },
    {
      "cell_type": "markdown",
      "source": [
        ""
      ],
      "metadata": {
        "id": "4vB8VGlbQIJG"
      },
      "id": "4vB8VGlbQIJG"
    }
  ],
  "metadata": {
    "kernelspec": {
      "display_name": "local-venv",
      "language": "python",
      "name": "local-venv"
    },
    "language_info": {
      "codemirror_mode": {
        "name": "ipython",
        "version": 3
      },
      "file_extension": ".py",
      "mimetype": "text/x-python",
      "name": "python",
      "nbconvert_exporter": "python",
      "pygments_lexer": "ipython3",
      "version": "3.10.4"
    },
    "colab": {
      "name": "newsbot.ipynb",
      "provenance": [],
      "collapsed_sections": [],
      "include_colab_link": true
    }
  },
  "nbformat": 4,
  "nbformat_minor": 5
}